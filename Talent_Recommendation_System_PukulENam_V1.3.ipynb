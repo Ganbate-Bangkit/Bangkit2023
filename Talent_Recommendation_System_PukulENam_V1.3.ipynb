{
 "cells": [
  {
   "cell_type": "code",
   "execution_count": 34,
   "metadata": {},
   "outputs": [],
   "source": [
    "import tensorflow as tf\n",
    "import numpy as np\n",
    "from scipy.spatial import distance\n"
   ]
  },
  {
   "attachments": {},
   "cell_type": "markdown",
   "metadata": {},
   "source": [
    "## Define Talent Value"
   ]
  },
  {
   "cell_type": "code",
   "execution_count": 35,
   "metadata": {},
   "outputs": [],
   "source": [
    "# use dummy data with random values\n",
    "talent_value = {\n",
    "    \"dummy_1\": [4.936512354, 0.872356908, 3.375982426, 1.789563245, 0.921478536, 2.148293728, 3.154986175, 4.912537642, 2.784512368, 1.366982457],\n",
    "    \"dummy_2\": [3.451265498, 0.123678954, 4.765432189, 2.453219876, 1.129864573, 0.987654321, 2.369874125, 1.658479321, 4.123876594, 3.543298710],\n",
    "    \"dummy_3\": [2.876543210, 1.987654321, 3.765432189, 0.654321987, 4.321987654, 2.543219876, 0.109876543, 3.432198765, 4.012345678, 1.098765432],\n",
    "    \"dummy_4\": [4.789654321, 2.134567890, 1.432198765, 3.109876543, 0.654789123, 4.654321987, 3.543298710, 1.876543210, 0.543219876, 2.987654321],\n",
    "    \"dummy_5\": [0.219876543, 3.456789012, 2.543219876, 4.321987654, 0.678954321, 2.432198765, 1.567890123, 4.654321987, 3.543298710, 0.098765432],\n",
    "    \"dummy_6\": [4.123456789, 1.432198765, 3.654321987, 0.219876543, 2.543219876, 0.654321987, 3.456789012, 2.109876543, 1.678954321, 4.789654321],\n",
    "    \"dummy_7\": [3.987654321, 1.543219876, 0.654321987, 2.109876543, 4.432198765, 3.890123456, 1.098765432, 0.432198765, 2.321987654, 4.678954321],\n",
    "    \"dummy_8\": [2.890123456, 4.678954321, 1.098765432, 3.890123456, 0.321987654, 4.432198765, 2.321987654, 0.654321987, 3.456789012, 1.543219876],\n",
    "    \"dummy_9\": [4.654321987, 2.321987654, 0.432198765, 3.098765432, 1.987654321, 0.890123456, 3.567890123, 4.543219876, 2.654321987, 1.109876543],\n",
    "    \"dummy_10\": [0.987654321, 1.567890123, 3.890123456, 2.432198765, 4.098765432, 2.654321987, 1.432198765, 0.321987654, 3.456789012, 4.890123456],\n",
    "    \"dummy_11\": [2.890123456, 4.654321987, 1.098765432, 3.890123456, 0.321987654, 4.432198765, 2.321987654, 0.654321987, 3.456789012, 1.543219876],\n",
    "    \"dummy_12\": [4.654321987, 2.321987654, 0.432198765, 3.098765432, 1.987654321, 0.890123456, 3.567890123, 4.543219876, 2.654321987, 1.109876543],\n",
    "    \"dummy_13\": [0.987654321, 1.567890123, 3.890123456, 2.432198765, 4.098765432, 2.654321987, 1.432198765, 0.321987654, 3.456789012, 4.890123456],\n",
    "    \"dummy_14\": [2.890123456, 4.654321987, 1.098765432, 3.890123456, 0.321987654, 4.432198765, 2.321987654, 0.654321987, 3.456789012, 1.543219876],\n",
    "    \"dummy_15\": [4.654321987, 2.321987654, 0.432198765, 3.098765432, 1.987654321, 0.890123456, 3.567890123, 4.543219876, 2.654321987, 1.109876543],\n",
    "}\n",
    "\n"
   ]
  },
  {
   "attachments": {},
   "cell_type": "markdown",
   "metadata": {},
   "source": [
    "## Define input values"
   ]
  },
  {
   "cell_type": "code",
   "execution_count": 41,
   "metadata": {},
   "outputs": [],
   "source": [
    "#role input\n",
    "copywriting= 2.259769107\n",
    "design= 3.014135965\n",
    "#level input\n",
    "national= 4.862321304\n",
    "international=0.7558945815\n",
    "#topic input\n",
    "entertainment = 0.4250154934\n",
    "gaming = 3.517506772\n",
    "tech = 0.0474588177\n",
    "finance = 4.075799447\n",
    "health = 4.712054295\n",
    "sport = 3.279613843\n",
    "input_values = np.array([copywriting, design, national, international, entertainment, gaming, tech, finance, health, sport], dtype=np.float32)\n",
    "#input_values = np.array([3.713235631, 1.87118309, 4.862321304, 0.7558945815, 0.4250154934, 3.517506772, 0.0474588177, 4.075799447, 4.712054295, 3.279613843], dtype=np.float32)"
   ]
  },
  {
   "attachments": {},
   "cell_type": "markdown",
   "metadata": {},
   "source": [
    "## Find the nearest neighbor with euclidean distance"
   ]
  },
  {
   "cell_type": "code",
   "execution_count": 48,
   "metadata": {},
   "outputs": [
    {
     "name": "stdout",
     "output_type": "stream",
     "text": [
      "Similar Talents:\n",
      "Aditya with distance: 5.459535086033468\n",
      "Putu Gede Arya Karna Sampalan with distance: 5.547085335043377\n",
      "dummy_3 with distance: 5.993295760862708\n"
     ]
    }
   ],
   "source": [
    "# Define the weights for each feature\n",
    "role_weight = 1\n",
    "level_weight = 1\n",
    "topic_weight = 1\n",
    "\n",
    "def calculate_distance(talent1, talent2):\n",
    "    return distance.euclidean(talent1, talent2)\n",
    "\n",
    "def find_similar_talents(query_talent, k=3):\n",
    "    distances = []\n",
    "    for talent, values in talent_value.items():\n",
    "        # Multiply the values by the weights\n",
    "        weighted_values = np.array(values) * [role_weight, role_weight, level_weight, level_weight, topic_weight, topic_weight, topic_weight, topic_weight, topic_weight, topic_weight]\n",
    "        dist = calculate_distance(query_talent, weighted_values)\n",
    "        distances.append((talent, dist))\n",
    "    distances.sort(key=lambda x: x[1])\n",
    "    return distances[:k]\n",
    "\n",
    "# Test the k-NN algorithm\n",
    "query_talent = input_values * [role_weight, role_weight, level_weight, level_weight, topic_weight, topic_weight, topic_weight, topic_weight, topic_weight, topic_weight]\n",
    "similar_talents = find_similar_talents(query_talent, k=3)\n",
    "\n",
    "print(\"Similar Talents:\")\n",
    "for talent, dist in similar_talents:\n",
    "    print(talent, \"with distance:\", dist)"
   ]
  }
 ],
 "metadata": {
  "kernelspec": {
   "display_name": "Python 3",
   "language": "python",
   "name": "python3"
  },
  "language_info": {
   "codemirror_mode": {
    "name": "ipython",
    "version": 3
   },
   "file_extension": ".py",
   "mimetype": "text/x-python",
   "name": "python",
   "nbconvert_exporter": "python",
   "pygments_lexer": "ipython3",
   "version": "3.10.7"
  },
  "orig_nbformat": 4
 },
 "nbformat": 4,
 "nbformat_minor": 2
}
