{
 "cells": [
  {
   "cell_type": "code",
   "execution_count": 34,
   "metadata": {},
   "outputs": [],
   "source": [
    "import tensorflow as tf\n",
    "import numpy as np\n",
    "from scipy.spatial import distance\n"
   ]
  },
  {
   "attachments": {},
   "cell_type": "markdown",
   "metadata": {},
   "source": [
    "## Define Talent Value"
   ]
  },
  {
   "cell_type": "code",
   "execution_count": 35,
   "metadata": {},
   "outputs": [],
   "source": [
    "# Define the international writer talent values\n",
    "talent_value = {\n",
    "    \"Aditya\": [2.259769107, 3.014135965, 2.824938221, 3.155593894, 0.4167755932, 4.741826779, 3.85036326, 2.227466682, 4.595172112, 3.990902425],\n",
    "    \"Andhika Mifta Alauddin\": [1.932117449, 0.9968444475, 1.504585768, 4.874138238, 1.94157344, 2.759315174, 0.3444549157, 4.469200131, 1.134803115, 3.775822366],\n",
    "    \"Ni Nyoman Ayu Sintya Dewi\": [0.08919804432, 4.665144292, 0.7595689861, 3.110924025, 0.4285912379, 1.707629617, 4.083307986, 4.602006903, 3.933426915, 4.390700951],\n",
    "    \"Dewa Bagus Trima Putra\": [1.159455864, 0.6766393492, 0.1706619854, 4.661579416, 4.84100387, 2.706038811, 2.772795161, 0.1126205312, 1.190931534, 1.988213358],\n",
    "    \"Patma Ari Ayu Kartini\": [2.779881576, 2.468145791, 0.2211582433, 3.525208253, 4.889649479, 1.484902155, 3.545680177, 2.240629164, 4.445384095, 4.964600408],\n",
    "    \"Risa Pebriyanthi\": [2.776503924, 3.185672362, 2.556472185, 3.8838096, 4.682616722, 1.235728582, 3.80682782, 2.654254693, 3.375129999, 2.984808733],\n",
    "    \"Suci Hastika Salma'aini\": [3.577375923, 4.265157993, 3.895886009, 0.8587274766, 4.181642292, 2.949615662, 1.940946264, 3.34346821, 4.22441476, 1.622054419],\n",
    "    \"Ni Luh Santi Wahyuni\": [3.396193216, 3.515671769, 3.912991012, 2.703145236, 2.979874618, 2.857628317, 2.517640046, 3.711151866, 1.936783971, 2.358414064],\n",
    "    \"Andre Winata\": [3.51456464, 0.3645756252, 3.79692556, 2.250282446, 2.679111438, 0.536134462, 4.534467806, 3.746517454, 4.266932162, 4.806161645],\n",
    "    \"Iga Narendra Pramawijaya\": [0.1088150606, 2.303818127, 4.318783787, 4.012135101, 1.968075363, 1.997162383, 3.464821074, 0.4616522862, 0.9077516992, 4.938445784],\n",
    "    \"Nyoman Satiya Nanjaya Sadha\": [3.296885756, 1.468128876, 4.110767852, 4.716492614, 2.604559429, 1.296454063, 1.672537921, 2.266814022, 2.627131035, 1.246716102],\n",
    "    \"Abiyyu Didar Haq\": [1.051130749, 0.8071914915, 1.981247048, 3.213197968, 4.877686202, 0.7306478473, 3.265466821, 1.451808717, 2.867446204, 3.419638976],\n",
    "    \"Putu Gede Arya Karna Sampalan\": [3.713235631, 1.87118309, 4.862321304, 0.7558945815, 0.4250154934, 3.517506772, 0.0474588177, 4.075799447, 4.712054295, 3.279613843],\n",
    "    \"Visakha Vidyadevi Wiguna\": [4.59946742, 3.661341184, 3.506017755, 1.582675378, 1.40591875, 1.813263678, 4.923273188, 2.041251408, 0.5385089127, 1.476473122],\n",
    "    \"dummy_1\": [4.936512354, 0.872356908, 3.375982426, 1.789563245, 0.921478536, 2.148293728, 3.154986175, 4.912537642, 2.784512368, 1.366982457],\n",
    "    \"dummy_2\": [3.451265498, 0.123678954, 4.765432189, 2.453219876, 1.129864573, 0.987654321, 2.369874125, 1.658479321, 4.123876594, 3.543298710],\n",
    "    \"dummy_3\": [2.876543210, 1.987654321, 3.765432189, 0.654321987, 4.321987654, 2.543219876, 0.109876543, 3.432198765, 4.012345678, 1.098765432],\n",
    "    \"dummy_4\": [4.789654321, 2.134567890, 1.432198765, 3.109876543, 0.654789123, 4.654321987, 3.543298710, 1.876543210, 0.543219876, 2.987654321],\n",
    "    \"dummy_5\": [0.219876543, 3.456789012, 2.543219876, 4.321987654, 0.678954321, 2.432198765, 1.567890123, 4.654321987, 3.543298710, 0.098765432],\n",
    "    \"dummy_6\": [4.123456789, 1.432198765, 3.654321987, 0.219876543, 2.543219876, 0.654321987, 3.456789012, 2.109876543, 1.678954321, 4.789654321],\n",
    "    \"dummy_7\": [3.987654321, 1.543219876, 0.654321987, 2.109876543, 4.432198765, 3.890123456, 1.098765432, 0.432198765, 2.321987654, 4.678954321],\n",
    "    \"dummy_8\": [2.890123456, 4.678954321, 1.098765432, 3.890123456, 0.321987654, 4.432198765, 2.321987654, 0.654321987, 3.456789012, 1.543219876],\n",
    "    \"dummy_9\": [4.654321987, 2.321987654, 0.432198765, 3.098765432, 1.987654321, 0.890123456, 3.567890123, 4.543219876, 2.654321987, 1.109876543],\n",
    "    \"dummy_10\": [0.987654321, 1.567890123, 3.890123456, 2.432198765, 4.098765432, 2.654321987, 1.432198765, 0.321987654, 3.456789012, 4.890123456],\n",
    "    \"dummy_11\": [2.890123456, 4.654321987, 1.098765432, 3.890123456, 0.321987654, 4.432198765, 2.321987654, 0.654321987, 3.456789012, 1.543219876],\n",
    "    \"dummy_12\": [4.654321987, 2.321987654, 0.432198765, 3.098765432, 1.987654321, 0.890123456, 3.567890123, 4.543219876, 2.654321987, 1.109876543],\n",
    "    \"dummy_13\": [0.987654321, 1.567890123, 3.890123456, 2.432198765, 4.098765432, 2.654321987, 1.432198765, 0.321987654, 3.456789012, 4.890123456],\n",
    "    \"dummy_14\": [2.890123456, 4.654321987, 1.098765432, 3.890123456, 0.321987654, 4.432198765, 2.321987654, 0.654321987, 3.456789012, 1.543219876],\n",
    "    \"dummy_15\": [4.654321987, 2.321987654, 0.432198765, 3.098765432, 1.987654321, 0.890123456, 3.567890123, 4.543219876, 2.654321987, 1.109876543],\n",
    "    \"dummy_16\": [0.987654321, 1.567890123, 3.890123456, 2.432198765, 4.098765432, 2.654321987, 1.432198765, 0.321987654, 3.456789012, 4.890123456],\n",
    "    \"dummy_17\": [2.890123456, 4.654321987, 1.098765432, 3.890123456, 0.321987654, 4.432198765, 2.321987654, 0.654321987, 3.456789012, 1.543219876]\n",
    "}\n",
    "\n"
   ]
  },
  {
   "attachments": {},
   "cell_type": "markdown",
   "metadata": {},
   "source": [
    "## Define input values"
   ]
  },
  {
   "cell_type": "code",
   "execution_count": 41,
   "metadata": {},
   "outputs": [],
   "source": [
    "#role input\n",
    "copywriting= 2.259769107\n",
    "design= 3.014135965\n",
    "#level input\n",
    "national= 4.862321304\n",
    "international=0.7558945815\n",
    "#topic input\n",
    "entertainment = 0.4250154934\n",
    "gaming = 3.517506772\n",
    "tech = 0.0474588177\n",
    "finance = 4.075799447\n",
    "health = 4.712054295\n",
    "sport = 3.279613843\n",
    "input_values = np.array([copywriting, design, national, international, entertainment, gaming, tech, finance, health, sport], dtype=np.float32)\n",
    "#input_values = np.array([3.713235631, 1.87118309, 4.862321304, 0.7558945815, 0.4250154934, 3.517506772, 0.0474588177, 4.075799447, 4.712054295, 3.279613843], dtype=np.float32)"
   ]
  },
  {
   "attachments": {},
   "cell_type": "markdown",
   "metadata": {},
   "source": [
    "## Find the nearest neighbor with euclidean distance"
   ]
  },
  {
   "cell_type": "code",
   "execution_count": 48,
   "metadata": {},
   "outputs": [
    {
     "name": "stdout",
     "output_type": "stream",
     "text": [
      "Similar Talents:\n",
      "Aditya with distance: 5.459535086033468\n",
      "Putu Gede Arya Karna Sampalan with distance: 5.547085335043377\n",
      "dummy_3 with distance: 5.993295760862708\n"
     ]
    }
   ],
   "source": [
    "# Define the weights for each feature\n",
    "role_weight = 1\n",
    "level_weight = 1\n",
    "topic_weight = 1\n",
    "\n",
    "def calculate_distance(talent1, talent2):\n",
    "    return distance.euclidean(talent1, talent2)\n",
    "\n",
    "def find_similar_talents(query_talent, k=3):\n",
    "    distances = []\n",
    "    for talent, values in talent_value.items():\n",
    "        # Multiply the values by the weights\n",
    "        weighted_values = np.array(values) * [role_weight, role_weight, level_weight, level_weight, topic_weight, topic_weight, topic_weight, topic_weight, topic_weight, topic_weight]\n",
    "        dist = calculate_distance(query_talent, weighted_values)\n",
    "        distances.append((talent, dist))\n",
    "    distances.sort(key=lambda x: x[1])\n",
    "    return distances[:k]\n",
    "\n",
    "# Test the k-NN algorithm\n",
    "query_talent = input_values * [role_weight, role_weight, level_weight, level_weight, topic_weight, topic_weight, topic_weight, topic_weight, topic_weight, topic_weight]\n",
    "similar_talents = find_similar_talents(query_talent, k=3)\n",
    "\n",
    "print(\"Similar Talents:\")\n",
    "for talent, dist in similar_talents:\n",
    "    print(talent, \"with distance:\", dist)"
   ]
  }
 ],
 "metadata": {
  "kernelspec": {
   "display_name": "Python 3",
   "language": "python",
   "name": "python3"
  },
  "language_info": {
   "codemirror_mode": {
    "name": "ipython",
    "version": 3
   },
   "file_extension": ".py",
   "mimetype": "text/x-python",
   "name": "python",
   "nbconvert_exporter": "python",
   "pygments_lexer": "ipython3",
   "version": "3.10.7"
  },
  "orig_nbformat": 4
 },
 "nbformat": 4,
 "nbformat_minor": 2
}
